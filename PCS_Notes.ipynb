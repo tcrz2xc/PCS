{
 "cells": [
  {
   "cell_type": "markdown",
   "metadata": {},
   "source": [
    "# Principles of Computer Science Notes\n",
    "\n",
    "## Table of Contents\n",
    "1. [Minecraft Education](#minecraft)\n",
    "2. [Basics Python and Console Interactions](#basics)\n",
    "3. [Making Decisions](#conditionals)\n",
    "4. [Loops and Repetitions](#loops)"
   ]
  },
  {
   "cell_type": "markdown",
   "metadata": {},
   "source": [
    "# Syntax and Command Structure:\n",
    "## Objectives:\n",
    "    •    Students will understand Minecraft Python Command syntax structure\n",
    "    •    Students will explore the differences in syntax when declaring strings or numbers\n",
    "    •    Students will use positional programming in Minecraft\n",
    "    •    Students will use commands in command structures\n",
    "## General Terms\n",
    "    •    Algorithms: An algorithm is a set of instructions or steps that a computer program follows to solve a problem or complete a task.\n",
    "    •    Command: A command is a specific instruction given to a computer or other electronic device to perform a particular task.\n",
    "    •    Period: A period is a punctuation mark that is used to indicate the end of a sentence but in programming, it denotes the division between command structures\n",
    "    •    Player: A player is an individual who engages in a game or activity for entertainment or competition. They are the user who interacts with the program or game, often controlling a character or avatar within the virtual world. \n",
    "    •    String: A string is a sequence of characters that is enclosed in quotation marks. It can contain letters, numbers or symbols, and spaces. Strings are commonly used in programming languages to represent text data.\n",
    "    •    Syntax: Syntax refers to the set of rules that govern the structure of a programming language.\n",
    "## Summary:\n",
    "    •    In this lesson on Python syntax, we learned that an algorithm is a set of instructions carried out in the right order. Syntax in programming languages is a set of rules used to create a programming language structure, similar to how grammar creates the structures of sentences."
   ]
  },
  {
   "cell_type": "code",
   "execution_count": null,
   "metadata": {},
   "outputs": [],
   "source": [
    "```python\n",
    "# Basic command structure\n",
    "player.move(FORWARD, 1)\n",
    "player.place(GRASS)\n",
    "\n",
    "# String examples\n",
    "player.say(\"Hello, welcome to Minecraft!\")\n",
    "player.title(\"Game Started\")\n",
    "\n",
    "# Multiple commands\n",
    "player.move(FORWARD, 2)\n",
    "player.turn(RIGHT)\n",
    "player.place(STONE)"
   ]
  },
  {
   "cell_type": "markdown",
   "metadata": {},
   "source": [
    "# Python 101:\n",
    "\n",
    "## General Terms\n",
    "    •    Algorithms: An algorithm is a set of instructions or steps that a computer program follows to solve a problem or complete a task.\n",
    "    •    Command: A command is a specific instruction given to a computer or other electronic device to perform a particular task.\n",
    "    •    Code Builder: A tool used to write  and edit code in Minecraft Python\n",
    "    •    Data Scientist: Professionals who analyze and interpret data\n",
    "    •    Debug: The process of finding and correcting errors in code\n",
    "    •    Mathematical Symbols: Symbols like addition, subtraction, division and multiplication used for calculation in Python Code.\n",
    "    •    Parameters: Values set within parentheses to specify command settings.\n",
    "    •    Programming Languages: A formal language comprising a set of instructions that produce various kinds of output.\n",
    "    •    Python: A text-based programming language\n",
    "    •    Reflections: Questions posed for self-assessment and review of learning outcomes.\n",
    "    •    Player: A player is an individual who engages in a game or activity for entertainment or competition. They are the user who interacts with the program or game, often controlling a character or avatar within the virtual world. \n",
    "    •    String: A string is a sequence of characters that is enclosed in quotation marks. It can contain letters, numbers or symbols, and spaces. Strings are commonly used in programming languages to represent text data.\n",
    "    •    Syntax: Syntax refers to the set of rules that govern the structure of a programming language.\n",
    "## Summary:\n",
    "    •    The video focused on learning Python syntax within Minecraft Education, emphasizing the importance of algorithms, Python as a programming language, and syntax rules. The goal is to assist CodingMine in debugging software by correcting errors in the existing code.\n"
   ]
  },
  {
   "cell_type": "code",
   "execution_count": null,
   "metadata": {},
   "outputs": [],
   "source": [
    "# Basic mathematics\n",
    "result = 5 + 3\n",
    "player.say(f\"5 + 3 = {result}\")\n",
    "\n",
    "# String operations\n",
    "greeting = \"Hello\"\n",
    "name = \"Player\"\n",
    "full_greeting = greeting + \" \" + name\n",
    "player.say(full_greeting)\n",
    "\n",
    "# Debug example\n",
    "blocks_placed = 0\n",
    "try:\n",
    "    player.place(GRASS)\n",
    "    blocks_placed += 1\n",
    "except:\n",
    "    player.say(\"Error placing block!\")"
   ]
  },
  {
   "cell_type": "markdown",
   "metadata": {},
   "source": [
    "# Lesson 3: Variables\n",
    "\n",
    "## General Terms\n",
    "    •    Equal Sign: A symbol used in programming with variables to declare their values, make changes, increase or decrease values, etc.\n",
    "    •    NPC: Non-Player Character, a character controlled by the game rather than the player.\n",
    "    •    Code Builder: A tool used to write  and edit code in Minecraft Python\n",
    "    •    Coordinates: Position represented by numbers that uniquely identify points in 3d space.\n",
    "    •    Positional Programming: Programming based on the position of objects or entities in a space, such as in Minecraft\n",
    "    •    Relative Position: Locating a position relative to a reference point, such as the player in Minecraft, defined by three numbers just like in math.\n",
    "    •    Wold Position: Unique coordinates assigned to each block in the Minecraft wold, used for positioning elements accurately within the game environment.\n",
    "## Summary:\n",
    "    •    Today’s lesson focuses on applying coding concepts related to Variables, using positional programming in Minecraft, creating, testing, and debugging code and adopting a coding mindset. Variables act as placeholders for text, numbers, or commands.\n"
   ]
  },
  {
   "cell_type": "code",
   "execution_count": null,
   "metadata": {},
   "outputs": [],
   "source": [
    "# Basic parameter usage\n",
    "blocks.place(GRASS, pos(0, 0, 0))\n",
    "blocks.place(STONE, pos(1, 0, 0))\n",
    "\n",
    "# Multiple parameters\n",
    "player.teleport(100, 64, 100)\n",
    "\n",
    "# Relative positioning\n",
    "blocks.place(GLASS, rel(1, 0, 1))"
   ]
  },
  {
   "cell_type": "markdown",
   "metadata": {},
   "source": [
    "# Lesson 4: Lists and Methods\n",
    "\n",
    "## General Terms\n",
    "    •    Append: A method used to add elements to a list in programming. When using the append method, new elements are added the end of the list, expanding its size.\n",
    "    •    List: An ordered collection of strings, numerical values, or variables. In Python, a list can also be a collection of Minecraft items or mobs. The content of a list can be edited by adding, removing, or ordering it differently. Multiple values can be stored in a list, and it is named using one letter and no spaces, commonly using underscores instead of spaces.\n",
    "    •    Square brackets: Special characters used in programming to define lists. When creating a list, square brackets are used to enclose the elements of the list, separating them with commas. Square brackets are essential for defining the content of a list in Python.\n",
    "    •    Pop: A method used to remove elements from a list in programming. When using the pop method, elements are A numbering system where counting starts from zero instead of one. In computer science and programming, many languages, including Python, use zero-based numbering for indexing elements in data structures like lists.removed from the list, reducing its size.\n",
    "    •    Zero-based Numbering: \n",
    "## Summary:\n",
    "    •    The Python 101 lesson focuses on utilizing the coding concept of lists to develop a software for animal hospital veterinarians. Lists are ordered collections of strings, numerical values, or variables, and can be edited by adding, removing, or reordering items.\n"
   ]
  },
  {
   "cell_type": "code",
   "execution_count": null,
   "metadata": {},
   "outputs": [],
   "source": [
    "# Number variables\n",
    "player_health = 20\n",
    "blocks_mined = 0\n",
    "\n",
    "# String variables\n",
    "player_name = \"Steve\"\n",
    "game_mode = \"survival\"\n",
    "\n",
    "# Updating variables\n",
    "blocks_mined = blocks_mined + 1\n",
    "player_health -= 5\n",
    "\n",
    "# Using variables in commands\n",
    "player.say(f\"Player {player_name} has mined {blocks_mined} blocks\")"
   ]
  },
  {
   "cell_type": "markdown",
   "metadata": {},
   "source": [
    "# Lesson 5: Agent and Loops\n",
    "\n",
    "## General Terms\n",
    "    •    Agent: In the text context, the agent refers to a robot that can be controlled with code to perform various actions. The agent is programmed to complete tasks around the house, such as moving, collecting, and dropping objects. It serves as a practical example for learning and applying coding concepts in Python.\n",
    "    •    Indentation: Indentation in Python defines blocks of code that belong to a specific command or structure. It is achieved by adding spaces or tabs at the beginning of lines of code to indicate their relationship within the program. Indentation is crucial in Python as it determines the scope of code blocks, such as loops, conditionals, and functions.\n",
    "    •    Loops: Loops in programming are used to repeat part of a code either continuously or for a certain number of times. They are efficient as they save time from having to type out the same part of the code many times. In Python, a for loop is commonly used to repeat a part of the code a certain number of times, written with a colon at the end of the first line and the repeated code indented underneath it.\n",
    "    •    Nested Loops: A nested loop in programming is a loop that is placed inside another loop. This structure allows for more complex iterations and is useful for accomplishing tasks that require multiple levels of repetition. Nested loops can have more than two levels, and they are commonly used to solve problems that involve iterating over multiple dimensions of data\n",
    "## Summary:\n",
    "    •    Today’s Python 101 lesson focuses on coding concepts of loops, specifically using for loops to repeat code efficiently. The goal is to control a robot agent to perform various tasks around the house. The lesson covers commands like agent move, agent place, agent collect all, and agent drop all. Nested loops, where a loop is placed inside another loop, are also discussed for more complex tasks. Syntax elements like colons and indentation are emphasized for proper code structure. Activities include coding the agent to lift objects, do laundry, and vacuum carpets. The lesson concludes with a congratulatory message upon successful completion. Key takeaways include understanding for loops, using indentation with loops, controlling the agent’s movement, and the concept of nested loops..\n"
   ]
  },
  {
   "cell_type": "code",
   "execution_count": null,
   "metadata": {},
   "outputs": [],
   "source": [
    "# Creating lists\n",
    "inventory = [\"sword\", \"pickaxe\", \"torch\"]\n",
    "block_types = [GRASS, STONE, DIRT]\n",
    "\n",
    "# List operations\n",
    "inventory.append(\"apple\")\n",
    "last_item = inventory.pop()\n",
    "first_item = inventory[0]\n",
    "\n",
    "# List iteration\n",
    "for item in inventory:\n",
    "    player.say(f\"You have: {item}\")\n",
    "\n",
    "# List modifications\n",
    "inventory[1] = \"diamond_pickaxe\""
   ]
  },
  {
   "cell_type": "markdown",
   "metadata": {},
   "source": [
    "# Lesson 6: Conditionals and Boolean Logic \n",
    "\n",
    "## General Terms\n",
    "    •    And Operator: The AND operator in Boolean logic returns true only if both operands are true; otherwise, it returns false.\n",
    "    •    Boolean Logic: Boolean logic is a form of algebra in which all values are reduced to either true or false, represented by the numbers 1 and 0, used for logical operations\n",
    "    •    Comparison Operator: A comparative operator is used to compare two values in programming and returns a boolean value based on the comparison.\n",
    "    •    Conditionals: Conditionals are statements in programming that perform different actions based on whether a certain condition is true or false.\n",
    "    •    Elif Statement: An elif statement is a conditional statement that allows you to check multiple conditions after an initial if statement and before an else statement.\n",
    "    •    For loop: A for loop is a programming construct that allows you to repeat a block of code a specific number of times or iterate over a sequence of elements.\n",
    "    •    If Statement: An if statement is a conditional statement that executes a block of code if a specified condition is true.\n",
    "    •    If-Else Statement: An if-else statement is a conditional statement that executes a block of code if the specified condition is true, and another block of code if the condition is false.\n",
    "    •    Indentation: Indentation in programming, such as in Python, is used to define blocks of code that belong to a specific command or statement.\n",
    "    •    Not Operator: The NOT operator in Boolean logic reverses the boolean value, turning true into false and false into true.\n",
    "    •    Negation: negation is the process of flipping a boolean value from true to false or false to true.\n",
    "    •    Pass Statement: The pass statement in Python is used as a placeholder for future code and allows the program to pass over that section without causing an error.\n",
    "    •    While Loop: A while loop is a programming construct that repeats a block of code as long as a specified condition is true.\n",
    "## Summary:\n",
    "    •    The lesson on conditionals and Boolean logic covers the use of if, if-else, and elif conditionals, as well as Boolean operators like AND and NOT. Boolean logic uses 1 for true and 0 for false. In Python, true or false comparisons are common. The lesson explains the add and not operators, and how to structure if, else, and elif statements. Syntax includes comparative operators like double equal signs for comparisons. Indentation is crucial in Python to group code. The pass statement is used as a placeholder. For loops and while loops are discussed, along with commands like agent move and agent detect in Minecraft. The lesson also introduces activities involving negating statements and testing multiple conditions using elif. The goal is to make the agent move based on certain conditions, such as blocks on its left side or the color of a light. The lesson concludes with an obstacle course activity where the agent must detect blocks in front, to the right, and to the left before proceeding."
   ]
  },
  {
   "cell_type": "code",
   "execution_count": null,
   "metadata": {},
   "outputs": [],
   "source": [
    "# Basic agent commands\n",
    "agent.move(FORWARD)\n",
    "agent.turn(LEFT)\n",
    "agent.place(DOWN)\n",
    "\n",
    "# Simple loop\n",
    "for i in range(4):\n",
    "    agent.move(FORWARD)\n",
    "    agent.place(DOWN)\n",
    "\n",
    "# Nested loop (building a wall)\n",
    "for height in range(3):\n",
    "    for width in range(5):\n",
    "        agent.place(STONE)\n",
    "        agent.move(FORWARD)\n",
    "    agent.move(UP)\n",
    "    agent.move(BACK, 5)"
   ]
  },
  {
   "cell_type": "markdown",
   "metadata": {},
   "source": [
    "# Lesson 7: While Loops \n",
    "\n",
    "## General Terms\n",
    "    •    Code Readability: Code readability is the quality of written code that makes it easy for humans to understand and maintain. It involves using clear and consistent coding conventions, meaningful variable names, and well-structured logic. Readable code enhances collaboration among developers, facilitates debugging and troubleshooting, and promotes code reuse. Programmers prioritize code readability to ensure that their solutions are comprehensible and maintainable over time. By following best practices for code readability, developers can create efficient and sustainable software solutions.\n",
    "    •    Conditional Loop: A conditional loop is a programming construct that repeatedly executes a block of code based on a specified condition. The loop continues to run as long as the condition remains true, providing a mechanism for automating tasks with dynamic requirements. Conditional loops offer flexibility in controlling program flow and handling varying input scenarios. Programmers use conditional loops to iterate over data structures, validate user inputs, and implement decision-making logic. Understanding conditional loops is essential for writing efficient and responsive code in various programming languages.\n",
    "    •    Program Flow: A conditional loop is a programming construct that repeatedly executes a block of code based on a specified condition. The loop continues to run as long as the condition remains true, providing a mechanism for automating tasks with dynamic requirements. Conditional loops offer flexibility in controlling program flow and handling varying input scenarios. Programmers use conditional loops to iterate over data structures, validate user inputs, and implement decision-making logic. Understanding conditional loops is essential for writing efficient and responsive code in various programming languages.\n",
    "    •    Sequence: In programming, sequences refer to the specific order in which a series of instructions or commands are executed. They play a crucial role in defining the logic and behavior of a program by determining the flow of operations. Sequences ensure that tasks are performed in a structured and predictable manner, leading to consistent outcomes. Programmers use sequences to organize complex operations into manageable steps, enhancing code readability and maintainability. By designing effective sequences, developers can streamline program execution and achieve desired results efficiently.\n",
    "## Summary:\n",
    "    •    The lesson delves into Emergency Response, While Loops, and Sequences in coding. While loops are conditional iteration mechanisms that execute code based on specific conditions. Sequences dictate the order of instructions for the computer to follow. It is crucial to maintain the correct sequence to achieve desired outcomes. The ’while’ loop syntax includes a conditional expression followed by a colon and indented code block. Sequences are vital for tasks like block placement in programming. The lesson emphasizes the importance of order in executing commands and the use of while loops for efficient code execution. Activities involve tasks like advancing an agent, constructing barriers, and building structures within specified boundaries. The lesson stresses the significance of proper sequencing and loop iterations for successful programming outcomes\n"
   ]
  },
  {
   "cell_type": "code",
   "execution_count": null,
   "metadata": {},
   "outputs": [],
   "source": [
    "# Basic conditionals\n",
    "block_ahead = agent.detect(FORWARD)\n",
    "if block_ahead:\n",
    "    agent.destroy(FORWARD)\n",
    "else:\n",
    "    agent.move(FORWARD)\n",
    "\n",
    "# Multiple conditions\n",
    "health = 20\n",
    "has_shield = True\n",
    "if health > 10 and has_shield:\n",
    "    player.say(\"Ready for battle!\")\n",
    "elif health > 10:\n",
    "    player.say(\"Need a shield!\")\n",
    "else:\n",
    "    player.say(\"Need healing!\")\n",
    "\n",
    "# Nested conditions\n",
    "in_cave = True\n",
    "monster_nearby = False\n",
    "has_torch = True\n",
    "\n",
    "if in_cave:\n",
    "    if monster_nearby:\n",
    "        if has_torch:\n",
    "            player.say(\"Fight!\")\n",
    "        else:\n",
    "            player.say(\"Run!\")\n",
    "    else:\n",
    "        player.say(\"Safe to mine\")"
   ]
  },
  {
   "cell_type": "markdown",
   "metadata": {},
   "source": [
    "# Lesson 8: Functions \n",
    "\n",
    "## General Terms\n",
    "    •    Calling a function: Calling a function involves using the function name followed by a pair of brackets and a colon in the code. This process allows the execution of the commands or code defined within the function. It is commonly referred to as calling a function.\n",
    "    •    Code Comments(#): Code comments are pieces of text in the code that the computer does not run. They are written to explain what each part of the code does, allowing any developer to understand the code clearly. Comments are denoted by a hashtag before the actual comment.\n",
    "    •    Conditional Statement: A conditional statement is a programming construct that allows different actions to be taken based on whether a specific condition is true or false. It typically consists of an if-else structure where different code blocks are executed depending on the evaluation of the condition.\n",
    "    •    For Loop: Conditionals are statements in programming that perform different actions based on whether a certain condition is true or false.\n",
    "    •    Elif Statement: An elif statement is a conditional statement that allows you to check multiple conditions after an initial if statement and before an else statement.\n",
    "    •    For loop: A for loop is a control flow statement that allows code to be executed repeatedly based on a specified condition. It iterates over a sequence of elements, such as a list or range of numbers, and performs the same set of instructions for each element.\n",
    "    •    Functions: Functions are specially made commands that can execute a group of commands or a piece of code. They are an integral part of most coding languages, especially in Python. Functions are a great way to shorten code and make it less confusing by replacing repetitive parts with custom functions.\n",
    "    •    Syntax def: Syntax def stands for define in Python. It is used to indicate to the computer that a function is being defined or created. After def, the function name is provided, followed by a pair of brackets and a colon. Any code indented below the colon belongs to that function.\n",
    "## Summary:\n",
    "    •    The lesson on functions in coding emphasizes the importance of functions in Python as they allow for the execution of a group of commands or a piece of code. Functions help in simplifying and organizing code by replacing repetitive parts with custom functions. To define a function in Python, the syntax ”def” is used followed by the function name and a colon, with the indented code below belonging to that function. Calling a function involves using the function name followed by brackets. Comments play a crucial role in explaining code and are denoted by a hashtag. The lesson includes activities where an agent is tasked with tilling, planting, and fertilizing trees in designated spots. The first activity involves creating a function for the agent to till and plant saplings, followed by adding code for fertilizing the saplings. The second activity requires the agent to clear rocks, till soil, and plant saplings, with functions created for breaking blocks and moving forward. The third activity involves coding the agent to move across an area, plant saplings on grass blocks, and includes functions for moving forward, turning left, and turning right. An if-else conditional is added to inspect grass blocks and ensure the agent tills the soil and plants a sapling. Overall, the lesson focuses on understanding, creating, and utilizing functions in coding to efficiently execute tasks."
   ]
  },
  {
   "cell_type": "code",
   "execution_count": null,
   "metadata": {},
   "outputs": [],
   "source": [
    "# Basic function\n",
    "def build_wall(length, height):\n",
    "    for h in range(height):\n",
    "        for l in range(length):\n",
    "            agent.place(STONE)\n",
    "            agent.move(FORWARD)\n",
    "        agent.move(UP)\n",
    "        agent.move(BACK, length)\n",
    "\n",
    "# Function with return value\n",
    "def check_surroundings():\n",
    "    dangers = 0\n",
    "    for direction in [FORWARD, RIGHT, BACK, LEFT]:\n",
    "        if agent.detect(direction):\n",
    "            dangers += 1\n",
    "    return dangers\n",
    "\n",
    "# Function with multiple parameters\n",
    "def create_structure(block_type, width, length, height):\n",
    "    for y in range(height):\n",
    "        for x in range(width):\n",
    "            for z in range(length):\n",
    "                blocks.place(block_type, pos(x, y, z))"
   ]
  },
  {
   "cell_type": "markdown",
   "metadata": {},
   "source": [
    "# Unit 2: Basic Python and Console Interactions\n",
    "## Lesson 1: Ouput \n",
    "\n",
    "## General Terms\n",
    "    •    Concatenation: Concatenation is the process of combining two strings by using the plus sign as a connector to place them next to each other.\n",
    "    •    Output: Output is what the computer presents to the user, including text printed on screen, graphics, sounds, and 3D printed objects. It involves translating digital information into a format humans can understand.\n",
    "    •    Sep Parameters: Sep parameters, including 'and' and 'equals', are used for formatting the output of a print function. The Sep parameter specifies a separator between outputted arguments, while the end parameter specifies what to print at the end of the print statement.\n",
    "\n",
    "## Summary:\n",
    "    •    The lesson on output covers various key concepts in programming. Output refers to what the computer presents to the user, such as text, graphics, sounds, and even physical objects. Concatenation, represented by the plus sign, combines strings together. Escape characters, like backslash n and backslash t, are used to insert special characters into strings. Sep parameters, including separation and end parameters, help format the output of the print function. Separation specifies a separator between arguments, while end determines what to print at the end of the statement. Understanding these concepts is essential for effectively manipulating and presenting output in programming."
   ]
  },
  {
   "cell_type": "code",
   "execution_count": null,
   "metadata": {},
   "outputs": [],
   "source": [
    "#outputs a message\n",
    "print(\"Hello, World!\")\n",
    "print(42)\n",
    "print(\"The answer is\", 42)"
   ]
  },
  {
   "cell_type": "markdown",
   "metadata": {},
   "source": [
    "# Lesson 2: Data Types \n",
    "\n",
    "## General Terms\n",
    "    •    Concatenation: Concatenation is the process of combining two strings by using the plus sign as a connector to place them next to each other.\n",
    "    •    Data Types: Data types in programming define the kind of data that can be stored inside a variable, specifying the type of value, the amount of computer memory needed, and the operations that can be performed on the data.\n",
    "    •    Floats: Floats are a data type in Python representing numbers with a decimal point, used for numerical calculations that involve fractions or decimals.\n",
    "    •    Int: Int is a function in Python used for typecasting values into integers, converting numerical data or strings into whole numbers.\n",
    "    •    Integer: Integers are a data type in Python representing whole numbers without a decimal point, used for numerical calculations that do not require fractions or decimals.\n",
    "    •    Str: Str is a function in Python used for typecasting values into strings, converting data into text or alphanumeric representations.\n",
    "    •    Strings: Strings are a data type in Python consisting of characters surrounded by either a single or double quote, used to represent text or alphanumeric data.\n",
    "    •    Typecasting: Typecasting is the process of converting the values of one data type to another data type, enabling compatibility and operations between different data types.\n",
    "\n",
    "## Summary:\n",
    "### Understanding Data Types and Casting in Python\n",
    "    •    The discussion on data types and casting in Python covers the types of data that can be stored in variables, such as strings, integers, and floats. Strings are characters surrounded by quotes, integers are whole numbers, and floats are numbers with decimal points. Casting involves changing data types using functions like int, float, and str. Variables in Python are containers for storing data, with rules for naming and usage. Input values are stored as strings by default, requiring typecasting for mathematical operations. Typecasting involves converting data types, such as from string to integer using int() or from integer to string using str(). Errors can occur when trying to perform operations on incompatible data types. Understanding data types, casting, and variable usage is essential for effective programming in Python."
   ]
  },
  {
   "cell_type": "code",
   "execution_count": null,
   "metadata": {},
   "outputs": [],
   "source": [
    "#Data type examples: \n",
    "age = 25       # Integer\n",
    "pi = 3.14159   # Float\n",
    "name = \"Alice\" # String"
   ]
  },
  {
   "cell_type": "markdown",
   "metadata": {},
   "source": [
    "# Lesson 3: User Input \n",
    "\n",
    "## General Terms\n",
    "    •    Argument: A value provided to a function when it is called.\n",
    "    •    Assignment: The act of storing a value in a variable.\n",
    "    •    Function: A named section of a program that performs a specific task.\n",
    "    •    Input: A function that retrieves data entered by the user.\n",
    "    •    Integer: Integers are a data type in Python representing whole numbers without a decimal point, used for numerical calculations that do not require fractions or decimals.\n",
    "    •    Print: A function that sends data to the console for display to the user.\n",
    "    •    User Input: Data provided by the user to a program, typically collected using the input function.\n",
    "\n",
    "## Summary:\n",
    "### The Importance of User Input and Variables in Programming\n",
    "    •    The discussion in the video focuses on the importance of user input in programming, specifically the distinction between print and input functions. Print is used to display information to the user, while input is used to collect data from the user, making programs interactive. Input function reads user data and returns it to the program, emphasizing the need to assign the input to a variable to retain the information. Variables store data in memory and can be used to manipulate and display user input. The video also explains how to format output using strings and variables, highlighting the use of concatenation with the plus sign. By including spaces and formatting within strings, the output can be structured effectively. The key takeaway is that input function prompts user interaction, while print function communicates information, and utilizing variables correctly is essential for storing and manipulating user input effectively in programming."
   ]
  },
  {
   "cell_type": "code",
   "execution_count": null,
   "metadata": {},
   "outputs": [],
   "source": [
    "#User input examples:\n",
    "username = input(\"What is your name? \")\n",
    "print(\"Hello,\", username)\n",
    "\n",
    "age = int(input(\"How old are you? \"))\n",
    "print(\"You are\", age, \"years old.\")"
   ]
  },
  {
   "cell_type": "markdown",
   "metadata": {},
   "source": [
    "# Lesson 4: String Operators \n",
    "\n",
    "## General Terms\n",
    "    •    Operators: Symbols that can be used to modify strings, etc.\n",
    "    •    Strings: Text in python that is surrounded by a quotations\n",
    "\n",
    "## Summary:\n",
    "    •    The discussion in the video focuses on the importance of operators to manipulate strings in programming. Strings can be combined using the + operator. You can also repeat strings using the * operator."
   ]
  },
  {
   "cell_type": "code",
   "execution_count": null,
   "metadata": {},
   "outputs": [],
   "source": [
    "#String Operators examples: \n",
    "greeting = \"Hello\" + \", \" + \"world!\"\n",
    "repeated_greeting = \"Ha!\" * 3"
   ]
  },
  {
   "cell_type": "markdown",
   "metadata": {},
   "source": [
    "# Lesson 5: Comments \n",
    "\n",
    "## General Terms\n",
    "    •    Comments: Text in a program that is ignored by the python interpreter.\n",
    "    •    Strings: Text in python that is surrounded by a quotations\n",
    "\n",
    "## Summary:\n",
    "    •    The discussion in the video focuses on the importance of comments in programming. Comments are used to explain code and are ignored by the interpreter. Single-line comments start with #."
   ]
  },
  {
   "cell_type": "code",
   "execution_count": null,
   "metadata": {},
   "outputs": [],
   "source": [
    "#Comments examples:\n",
    "# This is a single-line comment\n",
    "print(\"Hello\")  # This is an inline comment"
   ]
  },
  {
   "cell_type": "markdown",
   "metadata": {},
   "source": [
    "# Lesson 6: Programming Languages \n",
    "\n",
    "## Summary:\n",
    "    •    Python is a high-level, interpreted programming language that is widely used for a variety of applications, including:\n",
    "    •    Web development\n",
    "    •    Data analysis and visualization\n",
    "    •    Artificial intelligence and machine learning\n",
    "    •    Automation and scripting\n",
    "    •    Scientific computing\n"
   ]
  },
  {
   "cell_type": "markdown",
   "metadata": {},
   "source": [
    "# Unit 3: Number Calculations and Data\n",
    "## Lesson 1: Basic Calculations \n",
    "\n",
    "## General Terms\n",
    "    •    Arithmetic: Basic mathematical operations such as adding, subtracting, multiplying, and dividing numbers.\n",
    "    •    Exponets: Mathematical operation that involves raising a number to a power, denoted by the double star symbol (**) in Python.\n",
    "    •    Operators: SSymbols in programming that perform actions on values and variables, such as addition, subtraction, multiplication, division, and exponentiation.\n",
    "    •    Order of Operations: Rules that dictate the sequence in which mathematical operations should be performed, typically following the acronym PEMDAS (Parentheses, Exponents, Multiplication and Division, Addition and Subtraction).\n",
    "    •    PEMDAS: An acronym representing the order of operations in mathematics: Parentheses, Exponents, Multiplication and Division, Addition and Subtraction.\n",
    "    •    Operators: SSymbols in programming that perform actions on values and variables, such as addition, subtraction, multiplication, division, and exponentiation.\n",
    "\n",
    "\n",
    "## Summary:\n",
    "### Mastering Basic Calculations with Python: Syntax, Operators, and Order of Operations\n",
    "    •    In a lesson on basic calculations using computers, Python is introduced as a tool for solving arithmetic problems like addition, subtraction, multiplication, and division. The lesson objectives include defining and utilizing floats, operators, and assignments, as well as understanding basic operation symbols and performing order of operations. Variables are created to store values, and calculations are performed using the correct syntax. The importance of following the order of operations (PEMDAS) is emphasized, with parentheses taking precedence. Floats are used for decimal values, such as in temperature conversions from Fahrenheit to Celsius. Exponents in Python are denoted by two stars (**), and assignment operators (equal sign) are used to assign values to variables. The main operators (+, -, *, /, **) are highlighted for performing mathematical actions. The lesson stresses the significance of correct syntax and order of operations in Python programming for accurate calculations."
   ]
  },
  {
   "cell_type": "code",
   "execution_count": null,
   "metadata": {},
   "outputs": [],
   "source": [
    "#Basic Calculation examples:\n",
    "x = 10\n",
    "y = 3\n",
    "print(x + y)   # 13\n",
    "print(x - y)   # 7\n",
    "print(x * y)   # 30\n",
    "print(x / y)   # 3.3333333333333335"
   ]
  },
  {
   "cell_type": "markdown",
   "metadata": {},
   "source": [
    "# Lesson 2: Modular Division \n",
    "\n",
    "## General Terms\n",
    "    •    Conversions: Conversions involve changing units or values from one form to another, such as converting minutes to hours or inches to feet. Modular division can be used for conversions.\n",
    "    •    Divisibility: Divisibility is the property of one number being divisible by another without leaving a remainder. Modular division can be used to check divisibility.\n",
    "    •    Even or Odd Number: Even numbers are integers that are divisible by 2 without leaving a remainder, while odd numbers are integers that are not divisible by 2 without leaving a remainder. Modular division can help identify even and odd numbers.\n",
    "    •    Modular Division: Modular division is a mathematical operation that involves finding the remainder of a division between two whole numbers. It is performed using the modulo operator, represented by a percent sign (%), and only works with integers, not decimals or floats.\n",
    "    •    Modulo Operator: The modulo operator, represented by a percent sign (%), is used in modular division to find the remainder of a division between two whole numbers.\n",
    "    •    Prime Numbers: Prime numbers are integers greater than 1 that are only divisible by 1 and themselves. Modular division can be used in algorithms to identify prime numbers.\n",
    "    •    Remainder: The remainder is the amount left over after dividing one whole number by another whole number in a division operation. It is the result of modular division.\n",
    "    •    Undefined: Undefined refers to a situation where a mathematical operation or division by zero does not have a defined result. Dividing by zero is undefined because there is no number that can be multiplied by zero to result in a non-zero integer.\n",
    "## Summary:\n",
    "### Enhancing Number Operations with Python’s Math Module and Built-in Functions\n",
    "    •    In the lesson on built-in functions, new tools for number operations were introduced, such as the math module in Python. By importing modules like math, additional features like square roots, absolute values, and exponents can be utilized. Modules are collections of code that add functionality to programs, with some built into Python and others created by programmers. Functions, which are collections of commands given a name, are essential in programming. The math module provides functions like fabs for absolute values, pow for raising numbers to a power, and sqrt for square roots. To use these functions, the module name is followed by a period and the function name, along with the necessary parameters in parentheses. Importing modules allows access to pre-written code, making programming more flexible and efficient. Functions like print, input, int, str, and float are commonly used for displaying information, user interaction, and data manipulation. The lesson emphasizes the importance of understanding functions, modules, and the process of importing them to enhance programming capabilities.."
   ]
  },
  {
   "cell_type": "code",
   "execution_count": null,
   "metadata": {},
   "outputs": [],
   "source": [
    "#Modular Division examples:\n",
    "print(10 % 3)  # 1\n",
    "print(18 % 5)  # 3"
   ]
  },
  {
   "cell_type": "markdown",
   "metadata": {},
   "source": [
    "# Lesson 3: Built-in Functions \n",
    "\n",
    "## General Terms\n",
    "    •    Absolute Value: The positive value of a number, regardless of its sign. Length from zero.\n",
    "    •    Built-in Functions:Functions that are already available in a programming language without the need for additional code or libraries to define them.\n",
    "    •    Documentation: Information provided about a program, module, or function, including descriptions, examples, and expected outputs.\n",
    "    •    Dot Operator: The period symbol used in Python to access methods or attributes of an object or module.\n",
    "    •    Import Statement: A command in Python that allows pulling in modules filled with code to add extra features to a program.\n",
    "    •    Math Module: A module in Python that provides methods for mathematical operations such as square root, absolute value, and exponents\n",
    "    •    Method: A special type of function in Python that is associated with a specific object or class and is called using dot notation.\n",
    "## Summary:\n",
    "### Enhancing Number Operations with Python’s Math Module and Built-in Functions\n",
    "    •    In the lesson on built-in functions, new tools for number operations were introduced, such as the math module in Python. By importing modules like math, additional features like square roots, absolute values, and exponents can be utilized. Modules are collections of code that add functionality to programs, with some built into Python and others created by programmers. Functions, which are collections of commands given a name, are essential in programming. The math module provides functions like fabs for absolute values, pow for raising numbers to a power, and sqrt for square roots. To use these functions, the module name is followed by a period and the function name, along with the necessary parameters in parentheses. Importing modules allows access to pre-written code, making programming more flexible and efficient. Functions like print, input, int, str, and float are commonly used for displaying information, user interaction, and data manipulation. The lesson emphasizes the importance of understanding functions, modules, and the process of importing them to enhance programming capabilities."
   ]
  },
  {
   "cell_type": "markdown",
   "metadata": {},
   "source": [
    "# Lesson 4: Random Numbers \n",
    "\n",
    "## General Terms\n",
    "    •    List: A collection of items in a particular order. Lists are mutable, meaning their elements can be changed.\n",
    "    •    Module: A file containing Python code that defines functions, classes, and variables. Modules help organize code and make it reusable.\n",
    "    •    Random Numbers: Numbers generated in a non-deterministic manner, typically used for various purposes such as modeling, simulation, and gaming.\n",
    "    •    Seed Value: A starting point for the generation of random numbers. It initializes the random number generator.\n",
    "    •    Sequence: An ordered collection of similar or different data types in Python\n",
    "## Summary:\n",
    "### Exploring the Power of Randomness: Generating Random Numbers in Python\n",
    "    •    The discussion focuses on utilizing the random module in Python to generate random numbers for various purposes. By importing the random module, functions like randint, random, and choice can be used to obtain random integers, floats, or select elements from a sequence. The process involves setting parameters for the desired range of random numbers. An example scenario is creating a unique password consisting of a random number between 1 and 100, an animal name, and another number between 1 and 10. Random numbers are commonly used in modeling, simulations, graphics, and game development. The key functions discussed are randint for random integers, random for random floats, and choice for selecting elements from a sequence. The module allows for the generation of random values based on specified parameters, enabling diverse applications in programming."
   ]
  },
  {
   "cell_type": "code",
   "execution_count": null,
   "metadata": {},
   "outputs": [],
   "source": [
    "#Random Numbers example:\n",
    "import random\n",
    "\n",
    "print(random.randint(1, 10))  # Random integer between 1 and 10\n",
    "print(random.random())        # Random float between 0 and 1"
   ]
  }
 ],
 "metadata": {
  "kernelspec": {
   "display_name": "Python 3 (ipykernel)",
   "language": "python",
   "name": "python3"
  },
  "language_info": {
   "codemirror_mode": {
    "name": "ipython",
    "version": 3
   },
   "file_extension": ".py",
   "mimetype": "text/x-python",
   "name": "python",
   "nbconvert_exporter": "python",
   "pygments_lexer": "ipython3",
   "version": "3.11.0"
  }
 },
 "nbformat": 4,
 "nbformat_minor": 4
}
